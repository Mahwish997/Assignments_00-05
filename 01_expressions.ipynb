{
  "nbformat": 4,
  "nbformat_minor": 0,
  "metadata": {
    "colab": {
      "provenance": [],
      "authorship_tag": "ABX9TyORDNjtyU2tDRI02ZVCPQvK",
      "include_colab_link": true
    },
    "kernelspec": {
      "name": "python3",
      "display_name": "Python 3"
    },
    "language_info": {
      "name": "python"
    }
  },
  "cells": [
    {
      "cell_type": "markdown",
      "metadata": {
        "id": "view-in-github",
        "colab_type": "text"
      },
      "source": [
        "<a href=\"https://colab.research.google.com/github/Mahwish997/class-2---5-AssignmentS/blob/main/01_expressions.ipynb\" target=\"_parent\"><img src=\"https://colab.research.google.com/assets/colab-badge.svg\" alt=\"Open In Colab\"/></a>"
      ]
    },
    {
      "cell_type": "code",
      "execution_count": 7,
      "metadata": {
        "colab": {
          "base_uri": "https://localhost:8080/"
        },
        "id": "Cd2ZpZYjvS9G",
        "outputId": "10da63ef-0165-4775-bb65-fabe0a7889d5"
      },
      "outputs": [
        {
          "output_type": "stream",
          "name": "stdout",
          "text": [
            "/01_dicesimulator\n",
            "die1 in main() starts as: 10\n",
            "total of two dice: 3\n",
            "total of two dice: 6\n",
            "total of two dice: 8\n",
            "die1 in main() is: 10\n"
          ]
        }
      ],
      "source": [
        "import random\n",
        "print(\"/01_dicesimulator\")\n",
        "\n",
        "def roll_dice():\n",
        "    die1: int = random.randint(1,6)\n",
        "    die2: int = random.randint(1,6)\n",
        "    total: int = die1 + die2\n",
        "    print(f\"total of two dice: {total}\")\n",
        "\n",
        "def main():\n",
        "    die1: int = 10\n",
        "    print(\"die1 in main() starts as: \" + str(die1))\n",
        "    roll_dice()\n",
        "    roll_dice()\n",
        "    roll_dice()\n",
        "    print(\"die1 in main() is: \" + str(die1))\n",
        "\n",
        "if __name__ == '__main__':\n",
        "    main()"
      ]
    },
    {
      "cell_type": "code",
      "source": [
        "print(\"02_e=mc2.\")\n",
        "\n",
        "def energy():\n",
        "  c:int = 299792458\n",
        "  m:int = float(input(\"Enter Kilos of mass:\"))\n",
        "  print(\"e = m * C^2...\")\n",
        "  print(\"Mass = \" + str(m) + \" kg\")\n",
        "  print(\"C = \" + str(c) + \" m/s\")\n",
        "  print(\"e = \" + str(m * c ** 2) + \"jules\")\n",
        "\n",
        "if __name__ == \"__main__\":\n",
        "  energy()"
      ],
      "metadata": {
        "colab": {
          "base_uri": "https://localhost:8080/"
        },
        "id": "bNufKtwcy8og",
        "outputId": "a609082b-23d6-4449-d328-12a1f56b6784"
      },
      "execution_count": 10,
      "outputs": [
        {
          "output_type": "stream",
          "name": "stdout",
          "text": [
            "02_e=mc2.\n",
            "Enter Kilos of mass:130\n",
            "e = m * C^2...\n",
            "Mass = 130.0 kg\n",
            "C = 299792458 m/s\n",
            "e = 1.1683817323578628e+19jules\n"
          ]
        }
      ]
    },
    {
      "cell_type": "code",
      "source": [
        "print(\"03_feet_to_inches\")\n",
        "\n",
        "inch: int = 12\n",
        "\n",
        "def foot():\n",
        "    feet:int = int(input(\"Enter feet and i will convert into inches. \"))\n",
        "    print(f\"There are{inch * feet} inches in {feet} feet. \")\n",
        "\n",
        "if __name__ == \"__main__\":\n",
        "   foot()"
      ],
      "metadata": {
        "colab": {
          "base_uri": "https://localhost:8080/"
        },
        "id": "21_9T1aE2Iya",
        "outputId": "ebb2ea8b-961f-4dd7-ab26-c5bb646934e5"
      },
      "execution_count": 11,
      "outputs": [
        {
          "output_type": "stream",
          "name": "stdout",
          "text": [
            "03_feet_to_inches\n",
            "Enter feet and i will convert into inches. 45\n",
            "There are540 inches in 45 feet. \n"
          ]
        }
      ]
    },
    {
      "cell_type": "code",
      "source": [
        "import math\n",
        "print(\"04_pythagorean_theorem\")\n",
        "\n",
        "\n",
        "def triangle():\n",
        "    ab: float = float(input(\"Enter the length of the side ab: \"))\n",
        "    ac: float = float(input(\"Enter the length of the side ac: \"))\n",
        "    bc: float = math.sqrt(ab**2 + ac**2)\n",
        "    print(f\"The length of bc (the hypotenuse) is: \" + str(bc))\n",
        "\n",
        "if __name__ == '__main__':\n",
        "    triangle()"
      ],
      "metadata": {
        "colab": {
          "base_uri": "https://localhost:8080/"
        },
        "id": "i7pdDkn85k86",
        "outputId": "9f3b3d83-b572-4c56-8ab9-d18d05750e04"
      },
      "execution_count": 12,
      "outputs": [
        {
          "output_type": "stream",
          "name": "stdout",
          "text": [
            "04_pythagorean_theorem\n",
            "Enter the length of the side ab: 4\n",
            "Enter the length of the side ac: 6.8\n",
            "The length of bc (the hypotenuse) is: 7.889233169326408\n"
          ]
        }
      ]
    },
    {
      "cell_type": "code",
      "source": [
        "print(\"05_remainder_division\")\n",
        "\n",
        "def remainder():\n",
        "    num1: int = int(input(\"Enter an integer to be divided: \"))\n",
        "    num2: int = int(input(\"Enter an integer to divide by: \"))\n",
        "    quotient: int = num1 // num2\n",
        "    remainder: int = num1 %  num2\n",
        "    print(f\"The result of this division is {quotient} with a remainder of {remainder}\")\n",
        "\n",
        "if __name__ == '__main__':\n",
        "  remainder()"
      ],
      "metadata": {
        "colab": {
          "base_uri": "https://localhost:8080/"
        },
        "id": "FNkX2iEs7eWi",
        "outputId": "3d1eef52-f72c-464b-f2ef-1f0d144de6ce"
      },
      "execution_count": 13,
      "outputs": [
        {
          "output_type": "stream",
          "name": "stdout",
          "text": [
            "05_remainder_division\n",
            "Enter an integer to be divided: 56\n",
            "Enter an integer to divide by: 3\n",
            "The result of this division is 18 with a remainder of 2\n"
          ]
        }
      ]
    },
    {
      "cell_type": "code",
      "source": [
        "\n",
        "import random\n",
        "print(\"06_rolldice\")\n",
        "\n",
        "def dice():\n",
        "    die1: int = random.randint(1,6)\n",
        "    die2: int = random.randint(1,6)\n",
        "    total: int = int (die1 + die2)\n",
        "    print(\"First die:\" + str(die1))\n",
        "    print(\"Second die:\" + str(die2))\n",
        "    print(f\"Total of two dice : {total}\")\n",
        "\n",
        "if __name__ == '__main__':\n",
        "    dice()\n"
      ],
      "metadata": {
        "colab": {
          "base_uri": "https://localhost:8080/"
        },
        "id": "e7K47JTA9Oih",
        "outputId": "e4ed4b02-dd67-443b-b3fd-e3b697ddada1"
      },
      "execution_count": 14,
      "outputs": [
        {
          "output_type": "stream",
          "name": "stdout",
          "text": [
            "06_rolldice\n",
            "First die:3\n",
            "Second die:6\n",
            "Total of two dice : 9\n"
          ]
        }
      ]
    },
    {
      "cell_type": "code",
      "source": [
        "print(\"06_seconds_in_year\")\n",
        "\n",
        "days_in_year:int = 365\n",
        "hours_per_day:int = 24\n",
        "minutes_per_hour:int = 60\n",
        "seconds_per_minute:int = 60\n",
        "\n",
        "def seconds():\n",
        "    print(f\"There are {days_in_year * hours_per_day * minutes_per_hour * seconds_per_minute} seconds in a year! \")\n",
        "\n",
        "if __name__ == '__main__':\n",
        "    seconds()"
      ],
      "metadata": {
        "colab": {
          "base_uri": "https://localhost:8080/"
        },
        "id": "d9_eM8mL_gci",
        "outputId": "6c6802bf-e998-4af3-bb8e-9bb26d20c7cd"
      },
      "execution_count": 15,
      "outputs": [
        {
          "output_type": "stream",
          "name": "stdout",
          "text": [
            "06_seconds_in_year\n",
            "There are 31536000 seconds in a year! \n"
          ]
        }
      ]
    },
    {
      "cell_type": "code",
      "source": [
        "print(\"07_tiny_mad_lib\")\n",
        "\n",
        "def mad_lib():\n",
        "    noun:str = str(input(\"Enter a noun: \"))\n",
        "    adjective:str = str(input(\"Enter an adjective: \"))\n",
        "    verb:str = str(input(\"Enter a verb: \"))\n",
        "    print(f\"Do you {verb} your {adjective} {noun}? \")\n",
        "\n",
        "if __name__ == '__main__':\n",
        "    mad_lib()"
      ],
      "metadata": {
        "colab": {
          "base_uri": "https://localhost:8080/"
        },
        "id": "yqAfGKvOBvTv",
        "outputId": "3ae383aa-2305-4ec8-aeec-454f7e42c972"
      },
      "execution_count": 16,
      "outputs": [
        {
          "output_type": "stream",
          "name": "stdout",
          "text": [
            "07_tiny_mad_lib\n",
            "Enter a noun: sara\n",
            "Enter an adjective: lengthy assignments\n",
            "Enter a verb: completed\n",
            "Do you completed your lengthy assignments sara? \n"
          ]
        }
      ]
    }
  ]
}